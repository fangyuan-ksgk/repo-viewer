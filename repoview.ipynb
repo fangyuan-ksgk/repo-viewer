{
 "cells": [
  {
   "cell_type": "markdown",
   "metadata": {},
   "source": [
    "#### (I). Pick top-growing Github repo"
   ]
  },
  {
   "cell_type": "code",
   "execution_count": 1,
   "metadata": {},
   "outputs": [],
   "source": [
    "from tools.agent import RAgent, clone_repo, decide_temp_repo\n",
    "from tools.llm import get_openai_response\n",
    "\n",
    "# (I). Pick your favorite github repository\n",
    "# fastest_repos = get_fastest_growing_repos(days_ago=3, top_n = 10)\n",
    "repo_url = \"https://github.com/xjdr-alt/entropix.git\"\n",
    "temp_repo = decide_temp_repo(repo_url)\n",
    "\n",
    "# Initialize RepoAgent\n",
    "clone_repo(repo_url, temp_repo)\n",
    "agent = RAgent(temp_repo, get_llm_response=get_openai_response)"
   ]
  },
  {
   "cell_type": "markdown",
   "metadata": {},
   "source": [
    "#### (II). Visualize & Animate Repository Depedency Structure\n",
    "\n",
    "<div align=\"center\">\n",
    "  <img src=\"anime_entropix.gif\" width=\"1200\" alt=\"Entropix Codebase\">\n",
    "</div>\n",
    "<div align=\"center\">"
   ]
  },
  {
   "cell_type": "code",
   "execution_count": 2,
   "metadata": {},
   "outputs": [
    {
     "name": "stderr",
     "output_type": "stream",
     "text": [
      "success: successfully compiled sandbox/entropix_dag.d2 to sandbox/entropix_dag.png in 1.116897791s\n"
     ]
    },
    {
     "data": {
      "text/plain": [
       "'sandbox/entropix_dag.png'"
      ]
     },
     "execution_count": 2,
     "metadata": {},
     "output_type": "execute_result"
    }
   ],
   "source": [
    "# Static File-Dependency Visualization\n",
    "agent.visualize_file()\n",
    "\n",
    "# GIF animation of File-Dependency\n",
    "# agent.animate_file(frame_count=50, fps=10)"
   ]
  },
  {
   "cell_type": "markdown",
   "metadata": {},
   "source": [
    "#### (III). Pick a file and visualize dependency graph within that file\n",
    "\n",
    "<div align=\"center\">\n",
    "  <img src=\"anime_entropix_stats.gif\" width=\"800\" alt=\"Entropix Codebase\">\n",
    "</div>\n",
    "<div align=\"center\">"
   ]
  },
  {
   "cell_type": "code",
   "execution_count": 3,
   "metadata": {},
   "outputs": [
    {
     "name": "stderr",
     "output_type": "stream",
     "text": [
      "success: successfully compiled sandbox/entropix_weights.py_dag.d2 to sandbox/entropix_weights.py_dag.png in 445.671625ms\n"
     ]
    },
    {
     "data": {
      "text/plain": [
       "'sandbox/entropix_weights.py_dag.png'"
      ]
     },
     "execution_count": 3,
     "metadata": {},
     "output_type": "execute_result"
    }
   ],
   "source": [
    "file_name_or_number = \"entropix/model.py\"\n",
    "\n",
    "# Visualize Module-Dependency Graph starting from a specific file\n",
    "agent.visualize_module(file_name_or_number, cap_node_number=10, depth=3)\n",
    "\n",
    "# Animating GIF of Module-Dependency Graph\n",
    "# agent.animate_module(file_name_or_number, frame_count=50, fps=10, cap_node_number=10, depth=3)"
   ]
  },
  {
   "cell_type": "markdown",
   "metadata": {},
   "source": [
    "#### (IV). Relevant code to prompt (Ready for Agentic QA)"
   ]
  },
  {
   "cell_type": "code",
   "execution_count": 4,
   "metadata": {},
   "outputs": [],
   "source": [
    "# Repository to prompt \n",
    "repo_prompt = agent._to_prompt()\n",
    "\n",
    "# File prompt (including all its dependency function's code snippet)\n",
    "# file_prompt = agent._to_prompt(file_name_or_number)"
   ]
  },
  {
   "cell_type": "markdown",
   "metadata": {},
   "source": [
    "#### (V). Podcast Generation (~ 1 min)"
   ]
  },
  {
   "cell_type": "code",
   "execution_count": 5,
   "metadata": {},
   "outputs": [
    {
     "name": "stdout",
     "output_type": "stream",
     "text": [
      "Podcast created and saved as sandbox/podcast_entropix.mp3\n"
     ]
    }
   ],
   "source": [
    "# Repository-level Podcast \n",
    "agent.generate_podcast()\n",
    "\n",
    "# Module-level Podcast\n",
    "# agent.generate_podcast(file_name_or_number)"
   ]
  },
  {
   "cell_type": "markdown",
   "metadata": {},
   "source": [
    "#### (VI). Agentic Question Answering"
   ]
  },
  {
   "cell_type": "code",
   "execution_count": 2,
   "metadata": {},
   "outputs": [
    {
     "name": "stderr",
     "output_type": "stream",
     "text": [
      "success: successfully compiled sandbox/entropix_stats.py_dag.d2 to sandbox/entropix_stats.py_dag.png in 1.484072958s\n",
      "success: successfully compiled sandbox/entropix_stats.py_dag.d2 to sandbox/entropix_stats.py_dag.png in 1.48597525s\n"
     ]
    },
    {
     "data": {
      "text/plain": [
       "'This diagram represents the structure and relationships within the `model.py` file in the `entropix` module. Here’s a breakdown of the components and their interactions:\\n\\n### Modules\\n- **stats**: Contains `AttnStats` class with functions like `update`, `std_error`, `new`, and `avg_entropy`.\\n- **config**: Contains `ModelParams` for configuration settings.\\n- **weights**: Includes `LayerWeights` and functions to `load_weights` and handle `XfnmWeights`.\\n- **kvcache**: Manages key-value caching with the `update` and `new` functions.\\n- **model**: Core model structures with functions like `xfnmr` (transformer), `feed_forward`, `rms_norm`, `attention`, and `apply_rotary_emb`.\\n\\n### Interactions\\n- The red dashed lines represent dependencies or calls between components.\\n- The black solid lines indicate more direct function calls or class utilization within the same module.\\n\\n### Key Functionality\\n- **Attention Mechanism**: The `attention` function interacts with `apply_rotary_emb`, likely for position embeddings within the model.\\n- **Parameter Management**: `weights` module handles the loading and organization of model parameters.\\n- **Configuration and Statistics**: The `config` and `stats` modules provide necessary configurations and statistical tracking for model performance.\\n\\nThis visualization helps in understanding the modular design and interdependencies within the `model.py` file, aiding in debugging and development.'"
      ]
     },
     "execution_count": 2,
     "metadata": {},
     "output_type": "execute_result"
    }
   ],
   "source": [
    "# agent.respond(\"how many files are there in the repository?\")\n",
    "\n",
    "# agent.respond(\"visualize the repository for me\")\n",
    "\n",
    "# agent.respond(\"can you tell me more about the model.py file?\")\n",
    "\n",
    "agent.respond(\"help me visualize model.py file\")"
   ]
  }
 ],
 "metadata": {
  "kernelspec": {
   "display_name": "base",
   "language": "python",
   "name": "python3"
  },
  "language_info": {
   "codemirror_mode": {
    "name": "ipython",
    "version": 3
   },
   "file_extension": ".py",
   "mimetype": "text/x-python",
   "name": "python",
   "nbconvert_exporter": "python",
   "pygments_lexer": "ipython3",
   "version": "3.11.5"
  }
 },
 "nbformat": 4,
 "nbformat_minor": 2
}
