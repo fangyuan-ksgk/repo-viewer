{
 "cells": [
  {
   "cell_type": "markdown",
   "metadata": {},
   "source": [
    "#### (I). Pick top-growing Github repo"
   ]
  },
  {
   "cell_type": "code",
   "execution_count": 1,
   "metadata": {},
   "outputs": [],
   "source": [
    "from tools.repo import *\n",
    "from tools.agent import RepoAgent, clone_repo\n",
    "\n",
    "# (I). Pick your favorite github repository\n",
    "# fastest_repos = get_fastest_growing_repos(days_ago=3, top_n = 10)\n",
    "repo_url = \"https://github.com/xjdr-alt/entropix.git\"\n",
    "temp_repo = decide_temp_repo(repo_url)\n",
    "\n",
    "# Initialize RepoAgent\n",
    "clone_repo(repo_url, temp_repo)\n",
    "agent = RepoAgent(temp_repo)"
   ]
  },
  {
   "cell_type": "markdown",
   "metadata": {},
   "source": [
    "#### (II). Visualize & Animate Repository Depedency Structure\n",
    "\n",
    "<div align=\"center\">\n",
    "  <img src=\"anime_entropix.gif\" width=\"1200\" alt=\"Entropix Codebase\">\n",
    "</div>\n",
    "<div align=\"center\">"
   ]
  },
  {
   "cell_type": "code",
   "execution_count": 2,
   "metadata": {},
   "outputs": [
    {
     "name": "stderr",
     "output_type": "stream",
     "text": [
      "success: successfully compiled d2_output/evolve_graph_0.d2 to d2_output/evolve_graph_0.png in 759.689417ms\n",
      "success: successfully compiled d2_output/evolve_graph_1.d2 to d2_output/evolve_graph_1.png in 726.055416ms\n",
      "success: successfully compiled d2_output/evolve_graph_2.d2 to d2_output/evolve_graph_2.png in 721.193792ms\n",
      "success: successfully compiled d2_output/evolve_graph_3.d2 to d2_output/evolve_graph_3.png in 718.463041ms\n",
      "success: successfully compiled d2_output/evolve_graph_4.d2 to d2_output/evolve_graph_4.png in 715.677624ms\n",
      "success: successfully compiled d2_output/evolve_graph_5.d2 to d2_output/evolve_graph_5.png in 728.951166ms\n",
      "success: successfully compiled d2_output/evolve_graph_6.d2 to d2_output/evolve_graph_6.png in 760.877833ms\n",
      "success: successfully compiled d2_output/evolve_graph_7.d2 to d2_output/evolve_graph_7.png in 721.267791ms\n",
      "success: successfully compiled d2_output/evolve_graph_8.d2 to d2_output/evolve_graph_8.png in 726.42225ms\n",
      "success: successfully compiled d2_output/evolve_graph_9.d2 to d2_output/evolve_graph_9.png in 742.86ms\n",
      "success: successfully compiled d2_output/evolve_graph_10.d2 to d2_output/evolve_graph_10.png in 775.320208ms\n",
      "success: successfully compiled d2_output/evolve_graph_11.d2 to d2_output/evolve_graph_11.png in 755.619833ms\n",
      "success: successfully compiled d2_output/evolve_graph_12.d2 to d2_output/evolve_graph_12.png in 756.733709ms\n",
      "success: successfully compiled d2_output/evolve_graph_13.d2 to d2_output/evolve_graph_13.png in 762.284458ms\n",
      "success: successfully compiled d2_output/evolve_graph_14.d2 to d2_output/evolve_graph_14.png in 763.922792ms\n",
      "success: successfully compiled d2_output/evolve_graph_15.d2 to d2_output/evolve_graph_15.png in 813.252875ms\n",
      "success: successfully compiled d2_output/evolve_graph_16.d2 to d2_output/evolve_graph_16.png in 768.129833ms\n",
      "success: successfully compiled d2_output/evolve_graph_17.d2 to d2_output/evolve_graph_17.png in 786.713999ms\n",
      "success: successfully compiled d2_output/evolve_graph_18.d2 to d2_output/evolve_graph_18.png in 791.36475ms\n",
      "success: successfully compiled d2_output/evolve_graph_19.d2 to d2_output/evolve_graph_19.png in 785.724958ms\n",
      "success: successfully compiled d2_output/evolve_graph_20.d2 to d2_output/evolve_graph_20.png in 862.915834ms\n",
      "success: successfully compiled d2_output/evolve_graph_21.d2 to d2_output/evolve_graph_21.png in 825.423376ms\n",
      "success: successfully compiled d2_output/evolve_graph_22.d2 to d2_output/evolve_graph_22.png in 811.856125ms\n",
      "success: successfully compiled d2_output/evolve_graph_23.d2 to d2_output/evolve_graph_23.png in 832.712083ms\n",
      "success: successfully compiled d2_output/evolve_graph_24.d2 to d2_output/evolve_graph_24.png in 831.061334ms\n",
      "success: successfully compiled d2_output/evolve_graph_25.d2 to d2_output/evolve_graph_25.png in 873.231791ms\n",
      "success: successfully compiled d2_output/evolve_graph_26.d2 to d2_output/evolve_graph_26.png in 891.107708ms\n",
      "success: successfully compiled d2_output/evolve_graph_27.d2 to d2_output/evolve_graph_27.png in 904.137708ms\n",
      "success: successfully compiled d2_output/evolve_graph_28.d2 to d2_output/evolve_graph_28.png in 880.473667ms\n",
      "success: successfully compiled d2_output/evolve_graph_29.d2 to d2_output/evolve_graph_29.png in 886.0375ms\n",
      "success: successfully compiled d2_output/evolve_graph_30.d2 to d2_output/evolve_graph_30.png in 920.642542ms\n",
      "success: successfully compiled d2_output/evolve_graph_31.d2 to d2_output/evolve_graph_31.png in 880.54325ms\n",
      "success: successfully compiled d2_output/evolve_graph_32.d2 to d2_output/evolve_graph_32.png in 897.938084ms\n",
      "success: successfully compiled d2_output/evolve_graph_33.d2 to d2_output/evolve_graph_33.png in 891.966375ms\n",
      "success: successfully compiled d2_output/evolve_graph_34.d2 to d2_output/evolve_graph_34.png in 891.350834ms\n",
      "success: successfully compiled d2_output/evolve_graph_35.d2 to d2_output/evolve_graph_35.png in 905.856625ms\n",
      "success: successfully compiled d2_output/evolve_graph_36.d2 to d2_output/evolve_graph_36.png in 914.680501ms\n",
      "success: successfully compiled d2_output/evolve_graph_37.d2 to d2_output/evolve_graph_37.png in 918.939625ms\n",
      "success: successfully compiled d2_output/evolve_graph_38.d2 to d2_output/evolve_graph_38.png in 909.818167ms\n",
      "success: successfully compiled d2_output/evolve_graph_39.d2 to d2_output/evolve_graph_39.png in 930.87575ms\n",
      "success: successfully compiled d2_output/evolve_graph_40.d2 to d2_output/evolve_graph_40.png in 923.959834ms\n",
      "success: successfully compiled d2_output/evolve_graph_41.d2 to d2_output/evolve_graph_41.png in 1.069688291s\n",
      "success: successfully compiled d2_output/evolve_graph_42.d2 to d2_output/evolve_graph_42.png in 1.038467292s\n",
      "success: successfully compiled d2_output/evolve_graph_43.d2 to d2_output/evolve_graph_43.png in 1.020667709s\n",
      "success: successfully compiled d2_output/evolve_graph_44.d2 to d2_output/evolve_graph_44.png in 1.029160166s\n",
      "success: successfully compiled d2_output/evolve_graph_45.d2 to d2_output/evolve_graph_45.png in 1.061359833s\n",
      "success: successfully compiled d2_output/evolve_graph_46.d2 to d2_output/evolve_graph_46.png in 1.0566525s\n",
      "success: successfully compiled d2_output/evolve_graph_47.d2 to d2_output/evolve_graph_47.png in 1.032497583s\n",
      "success: successfully compiled d2_output/evolve_graph_48.d2 to d2_output/evolve_graph_48.png in 1.033524332s\n",
      "success: successfully compiled d2_output/evolve_graph_49.d2 to d2_output/evolve_graph_49.png in 1.028320376s\n",
      "success: successfully compiled d2_output/evolve_graph_50.d2 to d2_output/evolve_graph_50.png in 1.02058975s\n",
      "success: successfully compiled d2_output/evolve_graph_51.d2 to d2_output/evolve_graph_51.png in 1.024909542s\n",
      "success: successfully compiled d2_output/evolve_graph_52.d2 to d2_output/evolve_graph_52.png in 1.037333125s\n",
      "success: successfully compiled d2_output/evolve_graph_53.d2 to d2_output/evolve_graph_53.png in 1.025284042s\n",
      "success: successfully compiled d2_output/evolve_graph_54.d2 to d2_output/evolve_graph_54.png in 1.01987525s\n",
      "success: successfully compiled d2_output/evolve_graph_55.d2 to d2_output/evolve_graph_55.png in 1.039829166s\n",
      "success: successfully compiled d2_output/evolve_graph_56.d2 to d2_output/evolve_graph_56.png in 1.01730025s\n",
      "success: successfully compiled d2_output/evolve_graph_57.d2 to d2_output/evolve_graph_57.png in 1.0314315s\n",
      "success: successfully compiled d2_output/evolve_graph_58.d2 to d2_output/evolve_graph_58.png in 1.025253624s\n",
      "success: successfully compiled d2_output/evolve_graph_59.d2 to d2_output/evolve_graph_59.png in 1.03164725s\n",
      "success: successfully compiled d2_output/evolve_graph_60.d2 to d2_output/evolve_graph_60.png in 1.023984208s\n",
      "success: successfully compiled d2_output/evolve_graph_61.d2 to d2_output/evolve_graph_61.png in 1.016865791s\n",
      "success: successfully compiled d2_output/evolve_graph_62.d2 to d2_output/evolve_graph_62.png in 1.021227875s\n",
      "success: successfully compiled d2_output/evolve_graph_63.d2 to d2_output/evolve_graph_63.png in 1.012329625s\n",
      "success: successfully compiled d2_output/evolve_graph_64.d2 to d2_output/evolve_graph_64.png in 1.016936958s\n",
      "success: successfully compiled d2_output/evolve_graph_65.d2 to d2_output/evolve_graph_65.png in 1.0391555s\n",
      "success: successfully compiled d2_output/evolve_graph_66.d2 to d2_output/evolve_graph_66.png in 1.035341875s\n",
      "success: successfully compiled d2_output/evolve_graph_67.d2 to d2_output/evolve_graph_67.png in 1.029864583s\n",
      "success: successfully compiled d2_output/evolve_graph_68.d2 to d2_output/evolve_graph_68.png in 1.029436833s\n",
      "success: successfully compiled d2_output/evolve_graph_69.d2 to d2_output/evolve_graph_69.png in 1.020010667s\n",
      "success: successfully compiled d2_output/evolve_graph_70.d2 to d2_output/evolve_graph_70.png in 1.038698792s\n",
      "success: successfully compiled d2_output/evolve_graph_71.d2 to d2_output/evolve_graph_71.png in 1.018501125s\n",
      "success: successfully compiled d2_output/evolve_graph_72.d2 to d2_output/evolve_graph_72.png in 1.052526833s\n",
      "success: successfully compiled d2_output/evolve_graph_73.d2 to d2_output/evolve_graph_73.png in 1.027424583s\n",
      "success: successfully compiled d2_output/evolve_graph_74.d2 to d2_output/evolve_graph_74.png in 1.032647667s\n",
      "success: successfully compiled d2_output/evolve_graph_75.d2 to d2_output/evolve_graph_75.png in 1.026007959s\n",
      "success: successfully compiled d2_output/evolve_graph_76.d2 to d2_output/evolve_graph_76.png in 1.023368292s\n",
      "success: successfully compiled d2_output/evolve_graph_77.d2 to d2_output/evolve_graph_77.png in 1.021018958s\n",
      "success: successfully compiled d2_output/evolve_graph_78.d2 to d2_output/evolve_graph_78.png in 1.037401042s\n",
      "success: successfully compiled d2_output/evolve_graph_79.d2 to d2_output/evolve_graph_79.png in 1.029639959s\n",
      "success: successfully compiled d2_output/evolve_graph_80.d2 to d2_output/evolve_graph_80.png in 1.038484208s\n",
      "success: successfully compiled d2_output/evolve_graph_81.d2 to d2_output/evolve_graph_81.png in 1.022262834s\n",
      "success: successfully compiled d2_output/evolve_graph_82.d2 to d2_output/evolve_graph_82.png in 1.036560667s\n",
      "success: successfully compiled d2_output/evolve_graph_83.d2 to d2_output/evolve_graph_83.png in 1.028995458s\n",
      "success: successfully compiled d2_output/evolve_graph_84.d2 to d2_output/evolve_graph_84.png in 1.024840916s\n",
      "success: successfully compiled d2_output/evolve_graph_85.d2 to d2_output/evolve_graph_85.png in 1.029180834s\n",
      "success: successfully compiled d2_output/evolve_graph_86.d2 to d2_output/evolve_graph_86.png in 1.028973125s\n",
      "success: successfully compiled d2_output/evolve_graph_87.d2 to d2_output/evolve_graph_87.png in 1.024764084s\n",
      "success: successfully compiled d2_output/evolve_graph_88.d2 to d2_output/evolve_graph_88.png in 1.027969s\n",
      "success: successfully compiled d2_output/evolve_graph_89.d2 to d2_output/evolve_graph_89.png in 1.027840625s\n",
      "Creating GIF: 100%|██████████| 90/90 [00:40<00:00,  2.22it/s]\n"
     ]
    },
    {
     "name": "stdout",
     "output_type": "stream",
     "text": [
      "GIF file saved in path:  anime_entropix.gif\n"
     ]
    }
   ],
   "source": [
    "# Static File-Dependency Visualization\n",
    "# agent.visualize_file()\n",
    "\n",
    "# GIF animation of File-Dependency\n",
    "agent.animate_file(frame_count=50, fps=10)"
   ]
  },
  {
   "cell_type": "markdown",
   "metadata": {},
   "source": [
    "#### (III). Pick a file and visualize dependency graph within that file\n",
    "\n",
    "<div align=\"center\">\n",
    "  <img src=\"sandbox/entropix_module_dag.png\" width=\"800\" alt=\"Entropix Codebase\">\n",
    "</div>\n",
    "<div align=\"center\">"
   ]
  },
  {
   "cell_type": "code",
   "execution_count": 3,
   "metadata": {},
   "outputs": [
    {
     "name": "stderr",
     "output_type": "stream",
     "text": [
      "success: successfully compiled sandbox/entropix_config.py_dag.d2 to sandbox/entropix_config.py_dag.png in 468.267084ms\n"
     ]
    },
    {
     "data": {
      "text/plain": [
       "'sandbox/entropix_config.py_dag.png'"
      ]
     },
     "execution_count": 3,
     "metadata": {},
     "output_type": "execute_result"
    }
   ],
   "source": [
    "file_name_or_number = \"entropix/model.py\"\n",
    "\n",
    "# Visualize Module-Dependency Graph starting from a specific file\n",
    "agent.visualize_module(file_name_or_number, cap_node_number=10, depth=3)\n",
    "\n",
    "# Animating GIF of Module-Dependency Graph\n",
    "# agent.animate_module(file_name_or_number, frame_count=50, fps=10, cap_node_number=10, depth=3)"
   ]
  },
  {
   "cell_type": "markdown",
   "metadata": {},
   "source": [
    "#### (IV). Relevant code to prompt (Ready for Agentic QA)"
   ]
  },
  {
   "cell_type": "code",
   "execution_count": 6,
   "metadata": {},
   "outputs": [],
   "source": [
    "# Repository to prompt \n",
    "# repo_prompt = agent._code_to_prompt()\n",
    "\n",
    "# File prompt (including all its dependency function's code snippet)\n",
    "file_prompt = agent._to_prompt(file_name_or_number)"
   ]
  },
  {
   "cell_type": "markdown",
   "metadata": {},
   "source": [
    "#### (V). Podcast Generation"
   ]
  },
  {
   "cell_type": "code",
   "execution_count": 5,
   "metadata": {},
   "outputs": [],
   "source": []
  },
  {
   "cell_type": "code",
   "execution_count": null,
   "metadata": {},
   "outputs": [],
   "source": []
  }
 ],
 "metadata": {
  "kernelspec": {
   "display_name": "base",
   "language": "python",
   "name": "python3"
  },
  "language_info": {
   "codemirror_mode": {
    "name": "ipython",
    "version": 3
   },
   "file_extension": ".py",
   "mimetype": "text/x-python",
   "name": "python",
   "nbconvert_exporter": "python",
   "pygments_lexer": "ipython3",
   "version": "3.11.5"
  }
 },
 "nbformat": 4,
 "nbformat_minor": 2
}
