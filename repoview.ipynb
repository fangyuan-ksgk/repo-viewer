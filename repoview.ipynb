{
 "cells": [
  {
   "cell_type": "markdown",
   "metadata": {},
   "source": [
    "#### (I). Pick top-growing Github repo"
   ]
  },
  {
   "cell_type": "code",
   "execution_count": 2,
   "metadata": {},
   "outputs": [],
   "source": [
    "from tools.repo import *\n",
    "from tools.agent import RepoAgent, clone_repo\n",
    "\n",
    "# (I). Pick your favorite github repository\n",
    "# fastest_repos = get_fastest_growing_repos(days_ago=3, top_n = 10)\n",
    "repo_url = \"https://github.com/xjdr-alt/entropix.git\"\n",
    "temp_repo = decide_temp_repo(repo_url)\n",
    "\n",
    "# Initialize RepoAgent\n",
    "clone_repo(repo_url, temp_repo)\n",
    "agent = RepoAgent(temp_repo)"
   ]
  },
  {
   "cell_type": "markdown",
   "metadata": {},
   "source": [
    "#### (II). Visualize & Animate Repository Depedency Structure\n",
    "\n",
    "<div align=\"center\">\n",
    "  <img src=\"anime_entropix.gif\" width=\"1200\" alt=\"Entropix Codebase\">\n",
    "</div>\n",
    "<div align=\"center\">"
   ]
  },
  {
   "cell_type": "code",
   "execution_count": 2,
   "metadata": {},
   "outputs": [
    {
     "name": "stderr",
     "output_type": "stream",
     "text": [
      "success: successfully compiled sandbox/entropix_dag.d2 to sandbox/entropix_dag.png in 1.291246167s\n"
     ]
    },
    {
     "data": {
      "text/plain": [
       "'sandbox/entropix_dag.png'"
      ]
     },
     "execution_count": 2,
     "metadata": {},
     "output_type": "execute_result"
    }
   ],
   "source": [
    "# Static File-Dependency Visualization\n",
    "agent.visualize_file()\n",
    "\n",
    "# GIF animation of File-Dependency\n",
    "# agent.animate_file(frame_count=50, fps=10)"
   ]
  },
  {
   "cell_type": "markdown",
   "metadata": {},
   "source": [
    "#### (III). Pick a file and visualize dependency graph within that file\n",
    "\n",
    "<div align=\"center\">\n",
    "  <img src=\"sandbox/entropix_module_dag.png\" width=\"800\" alt=\"Entropix Codebase\">\n",
    "</div>\n",
    "<div align=\"center\">"
   ]
  },
  {
   "cell_type": "code",
   "execution_count": 3,
   "metadata": {},
   "outputs": [
    {
     "name": "stderr",
     "output_type": "stream",
     "text": [
      "success: successfully compiled sandbox/entropix_weights.py_dag.d2 to sandbox/entropix_weights.py_dag.png in 445.671625ms\n"
     ]
    },
    {
     "data": {
      "text/plain": [
       "'sandbox/entropix_weights.py_dag.png'"
      ]
     },
     "execution_count": 3,
     "metadata": {},
     "output_type": "execute_result"
    }
   ],
   "source": [
    "file_name_or_number = \"entropix/model.py\"\n",
    "\n",
    "# Visualize Module-Dependency Graph starting from a specific file\n",
    "agent.visualize_module(file_name_or_number, cap_node_number=10, depth=3)\n",
    "\n",
    "# Animating GIF of Module-Dependency Graph\n",
    "# agent.animate_module(file_name_or_number, frame_count=50, fps=10, cap_node_number=10, depth=3)"
   ]
  },
  {
   "cell_type": "markdown",
   "metadata": {},
   "source": [
    "#### (IV). Relevant code to prompt (Ready for Agentic QA)"
   ]
  },
  {
   "cell_type": "code",
   "execution_count": 4,
   "metadata": {},
   "outputs": [],
   "source": [
    "# Repository to prompt \n",
    "repo_prompt = agent._to_prompt()\n",
    "\n",
    "# File prompt (including all its dependency function's code snippet)\n",
    "# file_prompt = agent._to_prompt(file_name_or_number)"
   ]
  },
  {
   "cell_type": "markdown",
   "metadata": {},
   "source": [
    "#### (V). Podcast Generation (~ 1 min)"
   ]
  },
  {
   "cell_type": "code",
   "execution_count": 2,
   "metadata": {},
   "outputs": [
    {
     "name": "stdout",
     "output_type": "stream",
     "text": [
      "Podcast created and saved as sandbox/podcast_entropix.mp3\n"
     ]
    }
   ],
   "source": [
    "# Repository-level Podcast \n",
    "agent.generate_podcast()\n",
    "\n",
    "# Module-level Podcast\n",
    "# agent.generate_podcast(file_name_or_number)"
   ]
  },
  {
   "cell_type": "markdown",
   "metadata": {},
   "source": [
    "#### (VI). Gradio Interfact"
   ]
  },
  {
   "cell_type": "code",
   "execution_count": null,
   "metadata": {},
   "outputs": [],
   "source": [
    "# // ... existing imports ...\n",
    "# import gradio as gr\n",
    "\n",
    "# // ... existing code for RepoAgent initialization ...\n",
    "\n",
    "# def analyze_repo(repo_url):\n",
    "#     temp_repo = decide_temp_repo(repo_url)\n",
    "#     clone_repo(repo_url, temp_repo)\n",
    "#     agent = RepoAgent(temp_repo)\n",
    "    \n",
    "#     # Visualize file dependency\n",
    "#     file_dep_img = agent.visualize_file()\n",
    "    \n",
    "#     # Visualize module dependency for the first Python file\n",
    "#     python_files = [f for f in agent.files if f.endswith('.py')]\n",
    "#     if python_files:\n",
    "#         module_dep_img = agent.visualize_module(python_files[0], cap_node_number=10, depth=3)\n",
    "#     else:\n",
    "#         module_dep_img = None\n",
    "    \n",
    "#     # Generate podcast\n",
    "#     podcast = agent.generate_podcast()\n",
    "    \n",
    "#     return file_dep_img, module_dep_img, podcast\n",
    "\n",
    "# # Create Gradio interface\n",
    "# iface = gr.Interface(\n",
    "#     fn=analyze_repo,\n",
    "#     inputs=gr.Textbox(label=\"GitHub Repository URL\"),\n",
    "#     outputs=[\n",
    "#         gr.Image(label=\"File Dependency Graph\"),\n",
    "#         gr.Image(label=\"Module Dependency Graph\"),\n",
    "#         gr.Audio(label=\"Generated Podcast\")\n",
    "#     ],\n",
    "#     title=\"GitHub Repository Analyzer\",\n",
    "#     description=\"Enter a GitHub repository URL to analyze its structure and generate a podcast.\"\n",
    "# )\n",
    "\n",
    "# # Launch the interface\n",
    "# iface.launch()"
   ]
  }
 ],
 "metadata": {
  "kernelspec": {
   "display_name": "base",
   "language": "python",
   "name": "python3"
  },
  "language_info": {
   "codemirror_mode": {
    "name": "ipython",
    "version": 3
   },
   "file_extension": ".py",
   "mimetype": "text/x-python",
   "name": "python",
   "nbconvert_exporter": "python",
   "pygments_lexer": "ipython3",
   "version": "3.11.5"
  }
 },
 "nbformat": 4,
 "nbformat_minor": 2
}
